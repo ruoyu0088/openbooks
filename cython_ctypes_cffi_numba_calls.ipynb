{
 "metadata": {
  "name": "",
  "signature": "sha256:e7b199e9ae55d6ad1d6a0841b50243edb9dcdc2d1edb15183b4ce1b041bfcef7"
 },
 "nbformat": 3,
 "nbformat_minor": 0,
 "worksheets": [
  {
   "cells": [
    {
     "cell_type": "heading",
     "level": 1,
     "metadata": {},
     "source": [
      "Cython Ctypes CFFI Numba\u4e4b\u95f4\u7684\u51fd\u6570\u4f20\u9012"
     ]
    },
    {
     "cell_type": "markdown",
     "metadata": {},
     "source": [
      "* `ctypes`: Python\u6807\u51c6\u5e93\u4e2d\u8c03\u7528\u52a8\u6001\u94fe\u63a5\u5e93\u7684\u6269\u5c55\u6a21\u5757\u3002\n",
      "* `cffi`: PyPy\u5f00\u53d1\u8005\u7f16\u5199\u7684\u8c03\u7528C\u8bed\u8a00\u51fd\u6570\u7684\u6269\u5c55\u6a21\u5757\u3002\n",
      "* `cython`: \u5c06\u5e26\u7c7b\u578b\u58f0\u660e\u7684Python\u4ee3\u7801\u7f16\u8bd1\u6210C\u8bed\u8a00\uff0c\u8fdb\u800c\u7f16\u8bd1\u6210\u6269\u5c55\u6a21\u5757\u3002\n",
      "* `numba`: \u901a\u8fc7LLVM\u5b9e\u73b0Python\u4ee3\u7801\u7684JIT\u5373\u65f6\u7f16\u8bd1\u3002\n",
      "\n",
      "\u672c\u6587\u4ecb\u7ecd\u5982\u4f55\u5c06\u4e0a\u8ff0\u76844\u4e2a\u6269\u5c55\u5e93\u76f8\u7ed3\u5408\uff0c\u8ba9\u5b83\u4eec\u5728\u4e92\u76f8\u8c03\u7528\u65f6\u7701\u7565Python\u51fd\u6570\u7684\u8c03\u7528\u5f00\u9500\u3002"
     ]
    },
    {
     "cell_type": "heading",
     "level": 2,
     "metadata": {},
     "source": [
      "\u7f16\u5199\u4e00\u4e2a\u7b80\u5355\u7684DLL"
     ]
    },
    {
     "cell_type": "code",
     "collapsed": false,
     "input": [
      "%%file mathfunc.c\n",
      "#include <math.h>\n",
      "double mathfunc(double x, double y)\n",
      "{\n",
      "    return x * exp(-x*x - y*y);\n",
      "}\n",
      "\n",
      "unsigned int get_addr()\n",
      "{\n",
      "    return (unsigned int)(void *)mathfunc;\n",
      "}"
     ],
     "language": "python",
     "metadata": {},
     "outputs": [
      {
       "output_type": "stream",
       "stream": "stdout",
       "text": [
        "Overwriting mathfunc.c\n"
       ]
      }
     ],
     "prompt_number": 2
    },
    {
     "cell_type": "code",
     "collapsed": false,
     "input": [
      "!gcc -Ofast -shared -o mathfunc.dll mathfunc.c"
     ],
     "language": "python",
     "metadata": {},
     "outputs": [],
     "prompt_number": 3
    },
    {
     "cell_type": "code",
     "collapsed": false,
     "input": [
      "import ctypes\n",
      "lib = ctypes.CDLL(\"mathfunc.dll\")\n",
      "lib.mathfunc.argtypes = [ctypes.c_double, ctypes.c_double]\n",
      "lib.mathfunc.restype = ctypes.c_double\n",
      "lib.mathfunc(1.0, 2.0)"
     ],
     "language": "python",
     "metadata": {},
     "outputs": [
      {
       "metadata": {},
       "output_type": "pyout",
       "prompt_number": 4,
       "text": [
        "0.006737946999085465"
       ]
      }
     ],
     "prompt_number": 4
    },
    {
     "cell_type": "markdown",
     "metadata": {},
     "source": [
      "\u4f7f\u7528`vectorize()`\u5c06`mathfunc()`\u51fd\u6570\u77e2\u91cf\u5316\uff0c\u4f46\u662f\u5728`vectorize()`\u5185\u90e8\u8c03\u7528`mathfunc()`\u65f6\u8131\u79bb\u4e0d\u4e86Python\u51fd\u6570\u7684\u8c03\u7528\u5f00\u9500\u3002"
     ]
    },
    {
     "cell_type": "code",
     "collapsed": false,
     "input": [
      "import numpy as np\n",
      "Y, X = np.mgrid[-2:2:200j, -2:2:200j]\n",
      "vfunc = np.vectorize(lib.mathfunc, otypes=['f8'])\n",
      "res_vectorize = vfunc(X, Y)\n",
      "res_vectorize"
     ],
     "language": "python",
     "metadata": {},
     "outputs": [
      {
       "metadata": {},
       "output_type": "pyout",
       "prompt_number": 6,
       "text": [
        "array([[-0.00067093, -0.0007195 , -0.00077089, ...,  0.00077089,\n",
        "         0.0007195 ,  0.00067093],\n",
        "       [-0.0007268 , -0.00077942, -0.00083509, ...,  0.00083509,\n",
        "         0.00077942,  0.0007268 ],\n",
        "       [-0.0007867 , -0.00084365, -0.00090391, ...,  0.00090391,\n",
        "         0.00084365,  0.0007867 ],\n",
        "       ..., \n",
        "       [-0.0007867 , -0.00084365, -0.00090391, ...,  0.00090391,\n",
        "         0.00084365,  0.0007867 ],\n",
        "       [-0.0007268 , -0.00077942, -0.00083509, ...,  0.00083509,\n",
        "         0.00077942,  0.0007268 ],\n",
        "       [-0.00067093, -0.0007195 , -0.00077089, ...,  0.00077089,\n",
        "         0.0007195 ,  0.00067093]])"
       ]
      }
     ],
     "prompt_number": 6
    },
    {
     "cell_type": "code",
     "collapsed": false,
     "input": [
      "%timeit vfunc(X, Y)"
     ],
     "language": "python",
     "metadata": {},
     "outputs": [
      {
       "output_type": "stream",
       "stream": "stdout",
       "text": [
        "10 loops, best of 3: 41.9 ms per loop\n"
       ]
      }
     ],
     "prompt_number": 7
    },
    {
     "cell_type": "heading",
     "level": 2,
     "metadata": {},
     "source": [
      "Cython\u8c03\u7528Ctypes"
     ]
    },
    {
     "cell_type": "markdown",
     "metadata": {},
     "source": [
      "\u83b7\u5f97`ctypes`\u5305\u88c5\u7684C\u8bed\u8a00\u51fd\u6570`mathfunc()`\u7684\u5730\u5740\uff0c\u5c06\u8be5\u5730\u5740\u4ee5\u6574\u6570\u4f20\u9012\u7ed9Cython\u51fd\u6570\uff0c\u5728Cython\u51fd\u6570\u4e2d\u5c06\u5730\u5740\u8f6c\u6362\u6210\u51fd\u6570\u6307\u9488\uff0c\u5b9e\u73b0\u5feb\u901f\u8c03\u7528\u3002\u4e0b\u9762\u7684`get_addr()`\u8fd4\u56de`mathfunc()`\u7684\u5730\u5740\uff0c\u6211\u4eec\u8981\u505a\u7684\u4e8b\u5c31\u662f\u901a\u8fc7`lib.mathfunc`\u627e\u5230\u8be5\u5730\u5740\u3002"
     ]
    },
    {
     "cell_type": "code",
     "collapsed": false,
     "input": [
      "print lib.get_addr()"
     ],
     "language": "python",
     "metadata": {},
     "outputs": [
      {
       "output_type": "stream",
       "stream": "stdout",
       "text": [
        "1716523604\n"
       ]
      }
     ],
     "prompt_number": 8
    },
    {
     "cell_type": "markdown",
     "metadata": {},
     "source": [
      "`lib.mathfunc`\u53ef\u4ee5\u770b\u4f5c\u662f`ctypes`\u5305\u88c5\u7684\u51fd\u6570\u6307\u9488\uff0c\u800c\u901a\u8fc7`addressof()`\u83b7\u5f97\u8be5\u6307\u9488\u7684\u5730\u5740\uff0c\u7136\u540e\u5c06\u8be5\u6307\u9488\u7684\u7c7b\u578b\u8f6c\u6362\u4e3a\u6574\u578b\u6307\u9488\uff0c\u5e76\u83b7\u53d6\u8be5\u6307\u9488\u6307\u5411\u7684\u5185\u5bb9\u3002"
     ]
    },
    {
     "cell_type": "code",
     "collapsed": false,
     "input": [
      "addr = ctypes.cast(lib.mathfunc, ctypes.c_void_p).value\n",
      "print addr"
     ],
     "language": "python",
     "metadata": {},
     "outputs": [
      {
       "output_type": "stream",
       "stream": "stdout",
       "text": [
        "1716523604\n"
       ]
      }
     ],
     "prompt_number": 9
    },
    {
     "cell_type": "code",
     "collapsed": false,
     "input": [
      "%load_ext cythonmagic"
     ],
     "language": "python",
     "metadata": {},
     "outputs": [],
     "prompt_number": 10
    },
    {
     "cell_type": "code",
     "collapsed": false,
     "input": [
      "%%cython\n",
      "import cython\n",
      "import numpy as np\n",
      "\n",
      "ctypedef double(*func)(double x, double y)\n",
      "\n",
      "@cython.wraparound(False)\n",
      "@cython.boundscheck(False)\n",
      "def vectorize_2d(size_t func_addr, double[:, ::1] x, double[:, ::1] y):\n",
      "    cdef double[:, ::1] res = np.zeros_like(x.base)\n",
      "    cdef func func_ptr = <func><void *>func_addr\n",
      "    cdef int i, j\n",
      "    \n",
      "    for i in range(x.shape[0]):\n",
      "        for j in range(x.shape[1]):\n",
      "            res[i, j] = func_ptr(x[i, j], y[i, j])\n",
      "            \n",
      "    return res.base"
     ],
     "language": "python",
     "metadata": {},
     "outputs": [],
     "prompt_number": 11
    },
    {
     "cell_type": "code",
     "collapsed": false,
     "input": [
      "res_cython = vectorize_2d(addr, X, Y)\n",
      "np.all(res_vectorize == res_cython)"
     ],
     "language": "python",
     "metadata": {},
     "outputs": [
      {
       "metadata": {},
       "output_type": "pyout",
       "prompt_number": 12,
       "text": [
        "True"
       ]
      }
     ],
     "prompt_number": 12
    },
    {
     "cell_type": "code",
     "collapsed": false,
     "input": [
      "%timeit vectorize_2d(addr, X, Y)"
     ],
     "language": "python",
     "metadata": {},
     "outputs": [
      {
       "output_type": "stream",
       "stream": "stdout",
       "text": [
        "100 loops, best of 3: 2.53 ms per loop\n"
       ]
      }
     ],
     "prompt_number": 13
    },
    {
     "cell_type": "heading",
     "level": 2,
     "metadata": {},
     "source": [
      "Cython\u8c03\u7528cffi"
     ]
    },
    {
     "cell_type": "code",
     "collapsed": false,
     "input": [
      "from cffi import FFI\n",
      "ffi = FFI()\n",
      "ffi.cdef(\"\"\"\n",
      "double mathfunc(double x, double y);\n",
      "unsigned int get_addr();\n",
      "\"\"\")\n",
      "flib = ffi.dlopen(\"mathfunc.dll\")\n",
      "flib.mathfunc(1.0, 2.0)"
     ],
     "language": "python",
     "metadata": {},
     "outputs": [
      {
       "metadata": {},
       "output_type": "pyout",
       "prompt_number": 14,
       "text": [
        "0.006737946999085465"
       ]
      }
     ],
     "prompt_number": 14
    },
    {
     "cell_type": "code",
     "collapsed": false,
     "input": [
      "flib.get_addr()"
     ],
     "language": "python",
     "metadata": {},
     "outputs": [
      {
       "metadata": {},
       "output_type": "pyout",
       "prompt_number": 15,
       "text": [
        "1716523604L"
       ]
      }
     ],
     "prompt_number": 15
    },
    {
     "cell_type": "code",
     "collapsed": false,
     "input": [
      "fvfunc = np.vectorize(flib.mathfunc, otypes=['f8'])\n",
      "%timeit fvfunc(X, Y)"
     ],
     "language": "python",
     "metadata": {},
     "outputs": [
      {
       "output_type": "stream",
       "stream": "stdout",
       "text": [
        "10 loops, best of 3: 15.5 ms per loop\n"
       ]
      }
     ],
     "prompt_number": 16
    },
    {
     "cell_type": "markdown",
     "metadata": {},
     "source": [
      "\u901a\u8fc7`cast()`\u5c06\u51fd\u6570\u7684\u7c7b\u578b\u8f6c\u6362\u4e3a`size_t`\uff0c\u7136\u540e\u901a\u8fc7`int()`\u5c06\u5176\u8f6c\u6362\u4e3a\u6574\u6570\uff1a"
     ]
    },
    {
     "cell_type": "code",
     "collapsed": false,
     "input": [
      "addr = int(ffi.cast(\"size_t\", flib.mathfunc))\n",
      "addr"
     ],
     "language": "python",
     "metadata": {},
     "outputs": [
      {
       "metadata": {},
       "output_type": "pyout",
       "prompt_number": 18,
       "text": [
        "1716523604L"
       ]
      }
     ],
     "prompt_number": 18
    },
    {
     "cell_type": "code",
     "collapsed": false,
     "input": [
      "np.allclose(vectorize_2d(addr, X, Y), res_vectorize)"
     ],
     "language": "python",
     "metadata": {},
     "outputs": [
      {
       "metadata": {},
       "output_type": "pyout",
       "prompt_number": 19,
       "text": [
        "True"
       ]
      }
     ],
     "prompt_number": 19
    },
    {
     "cell_type": "heading",
     "level": 2,
     "metadata": {},
     "source": [
      "Numba\u8c03\u7528ctypes\u548ccffi"
     ]
    },
    {
     "cell_type": "code",
     "collapsed": false,
     "input": [
      "import numba as nb"
     ],
     "language": "python",
     "metadata": {},
     "outputs": [],
     "prompt_number": 20
    },
    {
     "cell_type": "code",
     "collapsed": false,
     "input": [
      "nb.__version__"
     ],
     "language": "python",
     "metadata": {},
     "outputs": [
      {
       "metadata": {},
       "output_type": "pyout",
       "prompt_number": 21,
       "text": [
        "'0.13.1'"
       ]
      }
     ],
     "prompt_number": 21
    },
    {
     "cell_type": "code",
     "collapsed": false,
     "input": [
      "mathfunc = flib.mathfunc\n",
      "\n",
      "def nb_vectorize_2d(func):\n",
      "    global __element_func__\n",
      "    __element_func__ = func\n",
      "    @nb.jit(nopython=True)\n",
      "    def f(x, y, out):\n",
      "        for i in range(x.shape[0]):\n",
      "            for j in range(x.shape[1]):\n",
      "                out[i, j] = __element_func__(x[i, j], y[i, j])\n",
      "    return f"
     ],
     "language": "python",
     "metadata": {},
     "outputs": [],
     "prompt_number": 22
    },
    {
     "cell_type": "code",
     "collapsed": false,
     "input": [
      "res_numba = np.zeros_like(X)\n",
      "mathfunc_vect = nb_vectorize_2d(lib.mathfunc)\n",
      "mathfunc_vect(X, Y, res_numba)"
     ],
     "language": "python",
     "metadata": {},
     "outputs": [],
     "prompt_number": 23
    },
    {
     "cell_type": "code",
     "collapsed": false,
     "input": [
      "np.all(res_numba == res_vectorize)"
     ],
     "language": "python",
     "metadata": {},
     "outputs": [
      {
       "metadata": {},
       "output_type": "pyout",
       "prompt_number": 24,
       "text": [
        "True"
       ]
      }
     ],
     "prompt_number": 24
    },
    {
     "cell_type": "code",
     "collapsed": false,
     "input": [
      "mathfunc_vect = nb_vectorize_2d(lib.mathfunc)\n",
      "%timeit mathfunc_vect(X, Y, res_numba)"
     ],
     "language": "python",
     "metadata": {},
     "outputs": [
      {
       "output_type": "stream",
       "stream": "stdout",
       "text": [
        "1000 loops, best of 3: 1.71 ms per loop\n"
       ]
      }
     ],
     "prompt_number": 27
    },
    {
     "cell_type": "code",
     "collapsed": false,
     "input": [
      "mathfunc_vect = nb_vectorize_2d(flib.mathfunc)\n",
      "%timeit mathfunc_vect(X, Y, res_numba)"
     ],
     "language": "python",
     "metadata": {},
     "outputs": [
      {
       "output_type": "stream",
       "stream": "stdout",
       "text": [
        "1000 loops, best of 3: 1.72 ms per loop\n"
       ]
      }
     ],
     "prompt_number": 26
    },
    {
     "cell_type": "heading",
     "level": 2,
     "metadata": {},
     "source": [
      "Cython\u8c03\u7528Numba"
     ]
    },
    {
     "cell_type": "code",
     "collapsed": false,
     "input": [
      "@nb.jit(\"f8(f8, f8)\", nopython=True)\n",
      "def func(x, y):\n",
      "    return x * np.exp(-x*x - y*y)"
     ],
     "language": "python",
     "metadata": {},
     "outputs": [],
     "prompt_number": 28
    },
    {
     "cell_type": "code",
     "collapsed": false,
     "input": [
      "func(1.0, 2.0)"
     ],
     "language": "python",
     "metadata": {},
     "outputs": [
      {
       "metadata": {},
       "output_type": "pyout",
       "prompt_number": 29,
       "text": [
        "0.006737946999085467"
       ]
      }
     ],
     "prompt_number": 29
    },
    {
     "cell_type": "code",
     "collapsed": false,
     "input": [
      "func"
     ],
     "language": "python",
     "metadata": {},
     "outputs": [
      {
       "metadata": {},
       "output_type": "pyout",
       "prompt_number": 30,
       "text": [
        "CPUOverloaded(<function func at 0x0760E630>)"
       ]
      }
     ],
     "prompt_number": 30
    },
    {
     "cell_type": "code",
     "collapsed": false,
     "input": [
      "func.overloads"
     ],
     "language": "python",
     "metadata": {},
     "outputs": [
      {
       "metadata": {},
       "output_type": "pyout",
       "prompt_number": 31,
       "text": [
        "{(float64, float64) -> float64: CompileResult(typing_context=<numba.typing.context.Context object at 0x07568FD0>, target_context=<numba.targets.base.ContextProxy object at 0x076D6110>, entry_point=<built-in function func>, entry_point_addr=140316528, typing_error=None, type_annotation=<numba.type_annotations.TypeAnnotation object at 0x075F5090>, llvm_module=<llvm.core.Module object at 0x076E04D0>, llvm_func=<llvm.core.Function object at 0x076E0E10>, signature=(float64, float64) -> float64, objectmode=False, lifted=(), fndesc=<numba.lowering.FunctionDescriptor object at 0x075D57B0>)}"
       ]
      }
     ],
     "prompt_number": 31
    },
    {
     "cell_type": "code",
     "collapsed": false,
     "input": [
      "cr = func.overloads.values()[0]"
     ],
     "language": "python",
     "metadata": {},
     "outputs": [],
     "prompt_number": 32
    },
    {
     "cell_type": "code",
     "collapsed": false,
     "input": [
      "isinstance(cr, tuple)"
     ],
     "language": "python",
     "metadata": {},
     "outputs": [
      {
       "metadata": {},
       "output_type": "pyout",
       "prompt_number": 35,
       "text": [
        "True"
       ]
      }
     ],
     "prompt_number": 35
    },
    {
     "cell_type": "code",
     "collapsed": false,
     "input": [
      "cr.llvm_func"
     ],
     "language": "python",
     "metadata": {},
     "outputs": [
      {
       "metadata": {},
       "output_type": "pyout",
       "prompt_number": 36,
       "text": [
        "<llvm.core.Function at 0x76e0e10>"
       ]
      }
     ],
     "prompt_number": 36
    },
    {
     "cell_type": "markdown",
     "metadata": {},
     "source": [
      "\u6bcf\u4e2aNumba\u7684JIT\u51fd\u6570\u90fd\u662f\u4e00\u4e2a\u7c7b\u578b\u5206\u914d\u5668\u3002\u5b83\u6839\u636e\u8c03\u7528\u65f6\u4f20\u9012\u7684\u53c2\u6570\u51b3\u5b9a\u8c03\u7528\u5185\u90e8\u7684LLVM\u51fd\u6570\u3002\u4e0b\u9762\u7684`get_llvm_func()`\u53ef\u4ee5\u901a\u8fc7\u7c7b\u578b\u58f0\u660e\u83b7\u5f97\u5bf9\u5e94\u7684LLVM\u51fd\u6570\u3002\u800c`get_llvm_func_addr()`\u83b7\u5f97LLVM\u51fd\u6570\u7684\u5730\u5740\u3002"
     ]
    },
    {
     "cell_type": "code",
     "collapsed": false,
     "input": [
      "def get_llvm_func(jit_func, sig):\n",
      "    from numba import sigutils\n",
      "    sig = nb.sigutils.parse_signature(sig)\n",
      "    args, rtype = sigutils.normalize_signature(sig)\n",
      "    return jit_func.overloads[tuple(args)].llvm_func\n",
      "\n",
      "def get_llvm_func_addr(llvm_func):\n",
      "    from numba import targets\n",
      "    engine = targets.registry.CPUTarget.target_context.engine\n",
      "    addr = engine.get_pointer_to_function(llvm_func)\n",
      "    return addr"
     ],
     "language": "python",
     "metadata": {},
     "outputs": [],
     "prompt_number": 37
    },
    {
     "cell_type": "markdown",
     "metadata": {},
     "source": [
      "\u76f4\u63a5\u6253\u5370LLVM\u51fd\u6570\u5c31\u53ef\u4ee5\u770b\u5230\u5176\u5185\u90e8\u7684\u4ee3\u7801\u4e86\uff0c\u6211\u4eec\u6ce8\u610f\u5230\u8be5\u51fd\u6570\u7684\u539f\u578b\u4e3a\uff1a`int32(double *, double, double)`\u3002\u5b83\u5c06\u8fd4\u56de\u503c\u4f5c\u4e3a\u5199\u5165\u7b2c\u4e00\u4e2a\u6307\u9488\u53c2\u6570\u6240\u6307\u5411\u7684\u5185\u5b58\u4e2d\u3002"
     ]
    },
    {
     "cell_type": "code",
     "collapsed": false,
     "input": [
      "llvm_func = get_llvm_func(func, \"f8(f8, f8)\")\n",
      "print llvm_func"
     ],
     "language": "python",
     "metadata": {},
     "outputs": [
      {
       "output_type": "stream",
       "stream": "stdout",
       "text": [
        "\n",
        "define i32 @__main__.func.float64.float64(double*, double %arg.x, double %arg.y) {\n",
        "entry:\n",
        "  %1 = fsub double 0.000000e+00, %arg.x\n",
        "  %2 = fmul double %1, %arg.x\n",
        "  %3 = fmul double %arg.y, %arg.y\n",
        "  %4 = fsub double %2, %3\n",
        "  %5 = call double @exp(double %4)\n",
        "  %6 = fmul double %5, %arg.x\n",
        "  store double %6, double* %0, align 8\n",
        "  ret i32 0\n",
        "}\n",
        "\n"
       ]
      }
     ],
     "prompt_number": 38
    },
    {
     "cell_type": "markdown",
     "metadata": {},
     "source": [
      "\u56e0\u6b64\u6211\u4eec\u7684Cython\u7a0b\u5e8f\u4e5f\u9700\u8981\u505a\u76f8\u5e94\u7684\u6539\u53d8\uff1a"
     ]
    },
    {
     "cell_type": "code",
     "collapsed": false,
     "input": [
      "%%cython\n",
      "import cython\n",
      "import numpy as np\n",
      "\n",
      "ctypedef int(*func)(double *r, double x, double y)\n",
      "\n",
      "@cython.wraparound(False)\n",
      "@cython.boundscheck(False)\n",
      "def vectorize_2d_numba(size_t func_addr, double[:, ::1] x, double[:, ::1] y):\n",
      "    cdef double[:, ::1] res = np.zeros_like(x.base)\n",
      "    cdef func func_ptr = <func><void *>func_addr\n",
      "    cdef int i, j\n",
      "    \n",
      "    for i in range(x.shape[0]):\n",
      "        for j in range(x.shape[1]):\n",
      "            func_ptr(&res[i, j], x[i, j], y[i, j])\n",
      "            \n",
      "    return res.base"
     ],
     "language": "python",
     "metadata": {},
     "outputs": [],
     "prompt_number": 39
    },
    {
     "cell_type": "markdown",
     "metadata": {},
     "source": [
      "\u7531\u4e8e\u7f16\u8bd1\u5668\u4e0d\u4e00\u6837\uff0c\u6d6e\u70b9\u6570\u7684\u7ed3\u679c\u53ef\u80fd\u6709\u7ec6\u5fae\u7684\u5dee\u522b\uff0c\u56e0\u6b64\u6211\u4eec\u4f7f\u7528`allclose()`\u5224\u65ad\u7ed3\u679c\u3002"
     ]
    },
    {
     "cell_type": "code",
     "collapsed": false,
     "input": [
      "addr = get_llvm_func_addr(llvm_func)\n",
      "np.allclose(vectorize_2d_numba(addr, X, Y), res_vectorize)"
     ],
     "language": "python",
     "metadata": {},
     "outputs": [
      {
       "metadata": {},
       "output_type": "pyout",
       "prompt_number": 40,
       "text": [
        "True"
       ]
      }
     ],
     "prompt_number": 40
    },
    {
     "cell_type": "code",
     "collapsed": false,
     "input": [
      "%timeit vectorize_2d_numba(addr, X, Y)"
     ],
     "language": "python",
     "metadata": {},
     "outputs": [
      {
       "output_type": "stream",
       "stream": "stdout",
       "text": [
        "100 loops, best of 3: 3.34 ms per loop\n"
       ]
      }
     ],
     "prompt_number": 43
    },
    {
     "cell_type": "heading",
     "level": 2,
     "metadata": {},
     "source": [
      "\u53ef\u4ee5\u5e94\u7528\u7684\u573a\u666f"
     ]
    },
    {
     "cell_type": "markdown",
     "metadata": {},
     "source": [
      "SciPy\u7684\u5e38\u5fae\u5206\u65b9\u7a0b\u6c42\u89e3`odeint`\uff0c\u975e\u7ebf\u6027\u65b9\u7a0b`fsolve`\uff0c\u4ee5\u53ca\u51fd\u6570\u6700\u5c0f\u5316`fmin`\u7b49\u529f\u80fd\u90fd\u9700\u8981\u7528\u6237\u63d0\u4f9b\u4e00\u4e2aPython\u51fd\u6570\u3002\u7531\u4e8e\u5b58\u5728Python\u51fd\u6570\u7684\u5f00\u9500\uff0c\u6240\u4ee5\u8fd0\u884c\u6548\u7387\u4e0d\u9ad8\u3002\n",
      "\n",
      "\u6211\u4eec\u53ef\u4ee5\u7528Cython\u5bf9C\u6216Fortran\u7684\u6570\u503c\u8ba1\u7b97\u5e93\u8fdb\u884c\u5305\u88c5\uff0c\u8ba9\u5b83\u540c\u65f6\u63a5\u53d7C\u8bed\u8a00\u7684\u51fd\u6570\u5730\u5740\u548cPython\u51fd\u6570\u3002\u8fd9\u6837\u5f53\u7528\u6237\u4f20\u9012\u4e00\u4e2a\u7ecf\u8fc7Numba\u52a8\u6001\u7f16\u8bd1\u4e4b\u540e\u7684\u51fd\u6570\u65f6\uff0c\u5c06\u80fd\u83b7\u5f97\u6700\u4f73\u7684\u8fd0\u7b97\u6548\u7387\u3002"
     ]
    }
   ],
   "metadata": {}
  }
 ]
}