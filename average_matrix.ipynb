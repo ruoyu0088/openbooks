{
 "metadata": {
  "name": "",
  "signature": "sha256:27607ffc81ddf6d6f18f9408ec86e0a7444d4bda8ea6ca4daea0ce0b45a94573"
 },
 "nbformat": 3,
 "nbformat_minor": 0,
 "worksheets": [
  {
   "cells": [
    {
     "cell_type": "code",
     "collapsed": false,
     "input": [
      "%matplotlib inline\n",
      "import pylab as pl\n",
      "import numpy as np"
     ],
     "language": "python",
     "metadata": {},
     "outputs": [],
     "prompt_number": 2
    },
    {
     "cell_type": "heading",
     "level": 2,
     "metadata": {},
     "source": [
      "\u95ee\u9898"
     ]
    },
    {
     "cell_type": "markdown",
     "metadata": {},
     "source": [
      "http://www.v2ex.com/t/148964\n",
      "\n",
      "\u73b0\u6709\u4e00\u4e2a m*n \u7684\u77e9\u9635\uff0c\u77e9\u9635\u5916\u56f4\u4e00\u5468\u7684\u70b9\u7684\u503c\u662f\u5df2\u77e5\u7684\uff0c\u77e9\u9635\u5f53\u4e2d\u6bcf\u4e2a\u70b9\u7684\u503c\u90fd\u662f\u4e0a\u4e0b\u5de6\u53f3\u56db\u4e2a\u70b9\u7684\u5e73\u5747\u503c\uff0c\u8bf7\u6c42\u51fa\u6bcf\u4e2a\u70b9\u7684\u503c\u3002"
     ]
    },
    {
     "cell_type": "heading",
     "level": 2,
     "metadata": {},
     "source": [
      "\u91c7\u7528\u8fed\u4ee3\u6cd5"
     ]
    },
    {
     "cell_type": "code",
     "collapsed": false,
     "input": [
      "M, N = 20, 40\n",
      "np.random.seed(42)\n",
      "m = np.random.rand(M, N)\n",
      "m[1:-1, 1:-1] = 0\n",
      "\n",
      "count = 0\n",
      "while True:\n",
      "    count += 1\n",
      "    avg = 0.25 * (m[:-2, 1:-1] + m[2:, 1:-1] + m[1:-1, :-2] + m[1:-1, 2:])\n",
      "    err = avg - m[1:-1, 1:-1]\n",
      "    if np.max(np.abs(err)) < 1e-15:\n",
      "        break\n",
      "    m[1:-1, 1:-1] = avg\n",
      "print count"
     ],
     "language": "python",
     "metadata": {},
     "outputs": [
      {
       "output_type": "stream",
       "stream": "stdout",
       "text": [
        "3490\n"
       ]
      }
     ],
     "prompt_number": 11
    },
    {
     "cell_type": "code",
     "collapsed": false,
     "input": [
      "pl.imshow(m, interpolation=\"nearest\");"
     ],
     "language": "python",
     "metadata": {},
     "outputs": [
      {
       "metadata": {},
       "output_type": "display_data",
       "png": "[encoded data removed]",
       "text": [
        "<matplotlib.figure.Figure at 0x9d53230>"
       ]
      }
     ],
     "prompt_number": 12
    },
    {
     "cell_type": "heading",
     "level": 2,
     "metadata": {},
     "source": [
      "\u91c7\u7528\u7a00\u758f\u77e9\u9635\u89e3\u7ebf\u6027\u65b9\u7a0b"
     ]
    },
    {
     "cell_type": "code",
     "collapsed": false,
     "input": [
      "from scipy import sparse\n",
      "from scipy.sparse import linalg"
     ],
     "language": "python",
     "metadata": {},
     "outputs": [],
     "prompt_number": 13
    },
    {
     "cell_type": "code",
     "collapsed": false,
     "input": [
      "idx = np.arange(M * N).reshape(M, N)\n",
      "\n",
      "A = sparse.dok_matrix((M*N, M*N))\n",
      "b = sparse.dok_matrix((M*N, 1))\n",
      "i = 0\n",
      "for row in range(M):\n",
      "    for col in range(N):\n",
      "        if row == 0 or col == 0 or row == M-1 or col == N-1:\n",
      "            A[i, idx[row, col]] = 1\n",
      "            b[i, 0] = m[row, col]\n",
      "        else:\n",
      "            A[i, idx[row, col]] = 4\n",
      "            A[i, idx[row-1, col]] = -1\n",
      "            A[i, idx[row+1, col]] = -1\n",
      "            A[i, idx[row, col-1]] = -1\n",
      "            A[i, idx[row, col+1]] = -1\n",
      "        i += 1\n",
      "        \n",
      "\n",
      "x = linalg.spsolve(A, b)\n",
      "x.shape = M, N\n",
      "\n",
      "np.allclose(x, m)"
     ],
     "language": "python",
     "metadata": {},
     "outputs": [
      {
       "metadata": {},
       "output_type": "pyout",
       "prompt_number": 14,
       "text": [
        "True"
       ]
      }
     ],
     "prompt_number": 14
    },
    {
     "cell_type": "code",
     "collapsed": false,
     "input": [],
     "language": "python",
     "metadata": {},
     "outputs": []
    }
   ],
   "metadata": {}
  }
 ]
}