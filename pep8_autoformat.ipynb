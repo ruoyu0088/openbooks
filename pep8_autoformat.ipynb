{
 "metadata": {
  "name": "",
  "signature": "sha256:8ddd16cf01fefb78ef4ff7af543e74694b6f83d2906b6c975feff6a98fe262b3"
 },
 "nbformat": 3,
 "nbformat_minor": 0,
 "worksheets": [
  {
   "cells": [
    {
     "cell_type": "heading",
     "level": 1,
     "metadata": {},
     "source": [
      "\u4f7f\u7528autopep8\u683c\u5f0f\u5316\u5355\u5143\u683c\u4e2d\u7684\u4ee3\u7801"
     ]
    },
    {
     "cell_type": "markdown",
     "metadata": {},
     "source": [
      "\u9996\u5148\u5b89\u88c5`pep8`\u548c`autopep8`\u4e24\u4e2a\u6a21\u5757\u3002"
     ]
    },
    {
     "cell_type": "code",
     "collapsed": false,
     "input": [
      "!pip install pep8"
     ],
     "language": "python",
     "metadata": {},
     "outputs": []
    },
    {
     "cell_type": "code",
     "collapsed": false,
     "input": [
      "!pip install autopep8"
     ],
     "language": "python",
     "metadata": {},
     "outputs": []
    },
    {
     "cell_type": "markdown",
     "metadata": {},
     "source": [
      "\u5b9a\u4e49\u5982\u4e0b\u7684`pep8`\u9b54\u6cd5\u547d\u4ee4\uff0c\u7531\u4e8e\u5199\u4e66\u7528\u7684\u4ee3\u7801\u7a7a\u4e24\u884c\u6709\u70b9\u6d6a\u8d39\u7a7a\u95f4\uff0c\u56e0\u6b64\u6700\u540e\u5c06\u8fde\u7eed\u4e24\u4e2a\u7a7a\u884c\u8f6c\u6362\u6210\u4e00\u4e2a\u7a7a\u884c\u3002"
     ]
    },
    {
     "cell_type": "code",
     "collapsed": false,
     "input": [
      "from IPython.core.magic import register_cell_magic\n",
      "\n",
      "@register_cell_magic\n",
      "def pep8(line, cell):\n",
      "    import autopep8\n",
      "\n",
      "    class fix_repr(object):\n",
      "\n",
      "        def __init__(self, obj):\n",
      "            self.obj = obj\n",
      "\n",
      "        def __repr__(self):\n",
      "            return self.obj.encode(\"utf8\")\n",
      "\n",
      "    if cell.startswith(\"%%\"):\n",
      "        lines = cell.split(\"\\n\")\n",
      "        first_line = lines[0]\n",
      "        cell = \"\\n\".join(lines[1:])\n",
      "    else:\n",
      "        first_line = \"\"\n",
      "\n",
      "    cell = autopep8.fix_code(cell)\n",
      "    if first_line:\n",
      "        cell = first_line + \"\\n\" + cell\n",
      "    cell = cell.replace(\"\\n\\n\", \"\\n\")\n",
      "    return fix_repr(cell)"
     ],
     "language": "python",
     "metadata": {},
     "outputs": [],
     "prompt_number": 1
    },
    {
     "cell_type": "markdown",
     "metadata": {},
     "source": [
      "\u6d4b\u8bd5\u9b54\u6cd5\u547d\u4ee4"
     ]
    },
    {
     "cell_type": "code",
     "collapsed": false,
     "input": [
      "%%pep8\n",
      "import math, sys;\n",
      "def example1():\n",
      "    ####This is a long comment. This should be wrapped to fit within 72 characters.\n",
      "    return (some_tuple, some_variable)\n",
      "def example2(): return {'has_key() is deprecated':True}.has_key({'f':2}.has_key(''));\n",
      "class Example3(   object ):\n",
      "    def __init__    ( self, bar ):\n",
      "     #Comments should have a space after the hash.\n",
      "     if bar : bar+=1;  bar=bar* bar   ; return bar\n",
      "     else:\n",
      "                    some_string = \"\"\"\n",
      "                       Indentation in multiline strings should not be touched.\n",
      "Only actual code should be reindented.\n",
      "\"\"\"\n",
      "                    return (sys.path, some_string)"
     ],
     "language": "python",
     "metadata": {},
     "outputs": [
      {
       "metadata": {},
       "output_type": "pyout",
       "prompt_number": 2,
       "text": [
        "import math\n",
        "import sys\n",
        "\n",
        "def example1():\n",
        "    # This is a long comment. This should be wrapped to fit within 72\n",
        "    # characters.\n",
        "    return (some_tuple, some_variable)\n",
        "\n",
        "def example2():\n",
        "    return {'has_key() is deprecated': True}.has_key({'f': 2}.has_key(''))\n",
        "\n",
        "class Example3(object):\n",
        "    def __init__(self, bar):\n",
        "        # Comments should have a space after the hash.\n",
        "        if bar:\n",
        "            bar += 1\n",
        "            bar = bar * bar\n",
        "            return bar\n",
        "        else:\n",
        "            some_string = \"\"\"\n",
        "                       Indentation in multiline strings should not be touched.\n",
        "Only actual code should be reindented.\n",
        "\"\"\"\n",
        "            return (sys.path, some_string)"
       ]
      }
     ],
     "prompt_number": 2
    },
    {
     "cell_type": "markdown",
     "metadata": {},
     "source": [
      "\u4e3a\u4e86\u8ba9`%%pep`\u80fd\u81ea\u52a8\u4fee\u6539\u5355\u5143\u683c\u4e2d\u7684\u4ee3\u7801\u6bb5\uff0c\u4f7f\u7528\u4e0b\u9762\u7684Javascript\uff0c\u6ce8\u518c\u4e00\u4e2a\"ctrl-alt-8\"\u7684\u70ed\u952e\u3002"
     ]
    },
    {
     "cell_type": "code",
     "collapsed": false,
     "input": [
      "%%javascript\n",
      "var pep8_data = {\n",
      "    handler : function(event){\n",
      "        var kernel = IPython.notebook.kernel;\n",
      "        var cell = IPython.notebook.get_selected_cell();\n",
      "        var code = \"%%pep8\" + \"\\n\" + cell.get_text();\n",
      "        function callback(data){\n",
      "            // console.log(data);\n",
      "            var result = data.content.data[\"text/plain\"];\n",
      "            cell.set_text(result);\n",
      "        }\n",
      "        kernel.execute(code, {iopub:{output: callback}}, {silent:false});          \n",
      "    }\n",
      "};\n",
      "\n",
      "IPython.keyboard_manager.edit_shortcuts.add_shortcut(\"ctrl-alt-8\", pep8_data, true);"
     ],
     "language": "python",
     "metadata": {},
     "outputs": [
      {
       "javascript": [
        "var pep8_data = {\n",
        "    handler : function(event){\n",
        "        var kernel = IPython.notebook.kernel;\n",
        "        var cell = IPython.notebook.get_selected_cell();\n",
        "        var code = \"%%pep8\" + \"\\n\" + cell.get_text();\n",
        "        function callback(data){\n",
        "            // console.log(data);\n",
        "            var result = data.content.data[\"text/plain\"];\n",
        "            cell.set_text(result);\n",
        "        }\n",
        "        console.log(code);\n",
        "        kernel.execute(code, {iopub:{output: callback}}, {silent:false});          \n",
        "    }\n",
        "};\n",
        "\n",
        "IPython.keyboard_manager.edit_shortcuts.add_shortcut(\"ctrl-alt-8\", pep8_data, true);"
       ],
       "metadata": {},
       "output_type": "display_data",
       "text": [
        "<IPython.core.display.Javascript at 0x35be870>"
       ]
      }
     ],
     "prompt_number": 3
    },
    {
     "cell_type": "markdown",
     "metadata": {},
     "source": [
      "\u5c06\u4e0a\u9762\u7684Python\u4ee3\u7801\u653e\u5230Profile\u4e0b\u7684startup\u6587\u4ef6\u5939\u4e2d\uff0c\u628aJavascript\u4ee3\u7801\u653e\u5230`custom.js`\u4e2d\uff0c\u5c31\u53ef\u4ee5\u5728\u4efb\u4f55Notebook\u4f7f\u7528\u8be5\u529f\u80fd\u4e86\u3002"
     ]
    },
    {
     "cell_type": "code",
     "collapsed": false,
     "input": [
      "%%pep8\n",
      "import math, sys;\n",
      "def example1():\n",
      "    ####This is a long comment. This should be wrapped to fit within 72 characters.\n",
      "    return (some_tuple, some_variable)\n",
      "def example2(): return {'has_key() is deprecated':True}.has_key({'f':2}.has_key(''));\n",
      "class Example3(   object ):\n",
      "    def __init__    ( self, bar ):\n",
      "     #Comments should have a space after the hash.\n",
      "     if bar : bar+=1;  bar=bar* bar   ; return bar\n",
      "     else:\n",
      "                    some_string = \"\"\"\n",
      "                       Indentation in multiline strings should not be touched.\n",
      "Only actual code should be reindented.\n",
      "\"\"\"\n",
      "                    return (sys.path, some_string)"
     ],
     "language": "python",
     "metadata": {},
     "outputs": []
    }
   ],
   "metadata": {}
  }
 ]
}