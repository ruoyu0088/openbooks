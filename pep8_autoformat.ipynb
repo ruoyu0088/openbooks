{
 "metadata": {
  "name": "",
  "signature": "sha256:782ec7a28c9acaa1f312c18648e4678b4b8384d7fd882959cf84bb82534007c3"
 },
 "nbformat": 3,
 "nbformat_minor": 0,
 "worksheets": [
  {
   "cells": [
    {
     "cell_type": "heading",
     "level": 1,
     "metadata": {},
     "source": [
      "\u4f7f\u7528autopep8\u683c\u5f0f\u5316\u5355\u5143\u683c\u4e2d\u7684\u4ee3\u7801"
     ]
    },
    {
     "cell_type": "markdown",
     "metadata": {},
     "source": [
      "\u9996\u5148\u5b89\u88c5`pep8`\u548c`autopep8`\u4e24\u4e2a\u6a21\u5757\u3002"
     ]
    },
    {
     "cell_type": "code",
     "collapsed": false,
     "input": [
      "!pip install pep8"
     ],
     "language": "python",
     "metadata": {},
     "outputs": []
    },
    {
     "cell_type": "code",
     "collapsed": false,
     "input": [
      "!pip install autopep8"
     ],
     "language": "python",
     "metadata": {},
     "outputs": []
    },
    {
     "cell_type": "markdown",
     "metadata": {},
     "source": [
      "\u5b9a\u4e49\u5982\u4e0b\u7684`pep8`\u9b54\u6cd5\u547d\u4ee4\uff0c\u7531\u4e8e\u5199\u4e66\u7528\u7684\u4ee3\u7801\u7a7a\u4e24\u884c\u6709\u70b9\u6d6a\u8d39\u7a7a\u95f4\uff0c\u56e0\u6b64\u6700\u540e\u5c06\u8fde\u7eed\u4e24\u4e2a\u7a7a\u884c\u8f6c\u6362\u6210\u4e00\u4e2a\u7a7a\u884c\u3002"
     ]
    },
    {
     "cell_type": "code",
     "collapsed": false,
     "input": [
      "from IPython.core.magic import register_cell_magic\n",
      "\n",
      "@register_cell_magic\n",
      "def pep8(line, cell):\n",
      "    import autopep8\n",
      "\n",
      "    class fix_repr(object):\n",
      "\n",
      "        def __init__(self, obj):\n",
      "            self.obj = obj\n",
      "\n",
      "        def __repr__(self):\n",
      "            return self.obj.encode(\"utf8\")\n",
      "\n",
      "    if cell.startswith(\"%%\"):\n",
      "        lines = cell.split(\"\\n\")\n",
      "        first_line = lines[0]\n",
      "        cell = \"\\n\".join(lines[1:])\n",
      "    else:\n",
      "        first_line = \"\"\n",
      "\n",
      "    cell = autopep8.fix_code(cell)\n",
      "    if first_line:\n",
      "        cell = first_line + \"\\n\" + cell\n",
      "    cell = cell.replace(\"\\n\\n\", \"\\n\")\n",
      "    return fix_repr(cell)"
     ],
     "language": "python",
     "metadata": {},
     "outputs": [],
     "prompt_number": 1
    },
    {
     "cell_type": "markdown",
     "metadata": {},
     "source": [
      "\u6d4b\u8bd5\u9b54\u6cd5\u547d\u4ee4"
     ]
    },
    {
     "cell_type": "code",
     "collapsed": false,
     "input": [
      "%%pep8\n",
      "import math, sys;\n",
      "def example1():\n",
      "    ####This is a long comment. This should be wrapped to fit within 72 characters.\n",
      "    return (some_tuple, some_variable)\n",
      "def example2(): return {'has_key() is deprecated':True}.has_key({'f':2}.has_key(''));\n",
      "class Example3(   object ):\n",
      "    def __init__    ( self, bar ):\n",
      "     #Comments should have a space after the hash.\n",
      "     if bar : bar+=1;  bar=bar* bar   ; return bar\n",
      "     else:\n",
      "                    some_string = \"\"\"\n",
      "                       Indentation in multiline strings should not be touched.\n",
      "Only actual code should be reindented.\n",
      "\"\"\"\n",
      "                    return (sys.path, some_string)"
     ],
     "language": "python",
     "metadata": {},
     "outputs": [
      {
       "metadata": {},
       "output_type": "pyout",
       "prompt_number": 4,
       "text": [
        "import math\n",
        "import sys\n",
        "\n",
        "def example1():\n",
        "    # This is a long comment. This should be wrapped to fit within 72\n",
        "    # characters.\n",
        "    return (some_tuple, some_variable)\n",
        "\n",
        "def example2():\n",
        "    return {'has_key() is deprecated': True}.has_key({'f': 2}.has_key(''))\n",
        "\n",
        "class Example3(object):\n",
        "    def __init__(self, bar):\n",
        "        # Comments should have a space after the hash.\n",
        "        if bar:\n",
        "            bar += 1\n",
        "            bar = bar * bar\n",
        "            return bar\n",
        "        else:\n",
        "            some_string = \"\"\"\n",
        "                       Indentation in multiline strings should not be touched.\n",
        "Only actual code should be reindented.\n",
        "\"\"\"\n",
        "            return (sys.path, some_string)"
       ]
      }
     ],
     "prompt_number": 4
    },
    {
     "cell_type": "markdown",
     "metadata": {},
     "source": [
      "\u4e3a\u4e86\u8ba9`%%pep`\u80fd\u81ea\u52a8\u4fee\u6539\u5355\u5143\u683c\u4e2d\u7684\u4ee3\u7801\u6bb5\uff0c\u4f7f\u7528\u4e0b\u9762\u7684Javascript\uff0c\u6ce8\u518c\u4e00\u4e2a\"ctrl-alt-8\"\u7684\u70ed\u952e\u3002"
     ]
    },
    {
     "cell_type": "code",
     "collapsed": false,
     "input": [
      "%%javascript\n",
      "var data2 = {\n",
      "    handler : function(event){\n",
      "        var kernel = IPython.notebook.kernel;\n",
      "        var cell = IPython.notebook.get_selected_cell();\n",
      "        var code = \"%%pep8\" + \"\\n\" + cell.get_text();\n",
      "        function callback(data){\n",
      "            // console.log(data);\n",
      "            var result = data.content.data[\"text/plain\"];\n",
      "            cell.set_text(result);\n",
      "        }\n",
      "        console.log(code);\n",
      "        kernel.execute(code, {iopub:{output: callback}}, {silent:false});          \n",
      "    }\n",
      "};\n",
      "\n",
      "IPython.keyboard_manager.edit_shortcuts.add_shortcut(\"ctrl-alt-8\", data2, true);"
     ],
     "language": "python",
     "metadata": {},
     "outputs": []
    },
    {
     "cell_type": "markdown",
     "metadata": {},
     "source": [
      "\u5c06\u4e0a\u9762\u7684Python\u4ee3\u7801\u653e\u5230Profile\u4e0b\u7684startup\u6587\u4ef6\u5939\u4e2d\uff0c\u628aJavascript\u4ee3\u7801\u653e\u5230`custom.js`\u4e2d\uff0c\u5c31\u53ef\u4ee5\u5728\u4efb\u4f55Notebook\u4f7f\u7528\u8be5\u529f\u80fd\u4e86\u3002"
     ]
    },
    {
     "cell_type": "code",
     "collapsed": false,
     "input": [
      "import cv2"
     ],
     "language": "python",
     "metadata": {},
     "outputs": [],
     "prompt_number": 6
    },
    {
     "cell_type": "code",
     "collapsed": false,
     "input": [
      "import numpy as np"
     ],
     "language": "python",
     "metadata": {},
     "outputs": [],
     "prompt_number": 7
    },
    {
     "cell_type": "code",
     "collapsed": false,
     "input": [
      "a = np.zeros((100, 100, 3), np.uint8)"
     ],
     "language": "python",
     "metadata": {},
     "outputs": [],
     "prompt_number": 8
    },
    {
     "cell_type": "code",
     "collapsed": false,
     "input": [
      "r, img = cv2.imencode(\".jpg\", a)"
     ],
     "language": "python",
     "metadata": {},
     "outputs": [],
     "prompt_number": 9
    },
    {
     "cell_type": "code",
     "collapsed": false,
     "input": [],
     "language": "python",
     "metadata": {},
     "outputs": []
    },
    {
     "cell_type": "code",
     "collapsed": false,
     "input": [
      "img.tostring()"
     ],
     "language": "python",
     "metadata": {},
     "outputs": [
      {
       "metadata": {},
       "output_type": "pyout",
       "prompt_number": 12,
       "text": [
        "'\\xff\\xd8\\xff\\xe0\\x00\\x10JFIF\\x00\\x01\\x01\\x00\\x00\\x01\\x00\\x01\\x00\\x00\\xff\\xdb\\x00C\\x00\\x02\\x01\\x01\\x01\\x01\\x01\\x02\\x01\\x01\\x01\\x02\\x02\\x02\\x02\\x02\\x04\\x03\\x02\\x02\\x02\\x02\\x05\\x04\\x04\\x03\\x04\\x06\\x05\\x06\\x06\\x06\\x05\\x06\\x06\\x06\\x07\\t\\x08\\x06\\x07\\t\\x07\\x06\\x06\\x08\\x0b\\x08\\t\\n\\n\\n\\n\\n\\x06\\x08\\x0b\\x0c\\x0b\\n\\x0c\\t\\n\\n\\n\\xff\\xdb\\x00C\\x01\\x02\\x02\\x02\\x02\\x02\\x02\\x05\\x03\\x03\\x05\\n\\x07\\x06\\x07\\n\\n\\n\\n\\n\\n\\n\\n\\n\\n\\n\\n\\n\\n\\n\\n\\n\\n\\n\\n\\n\\n\\n\\n\\n\\n\\n\\n\\n\\n\\n\\n\\n\\n\\n\\n\\n\\n\\n\\n\\n\\n\\n\\n\\n\\n\\n\\n\\n\\n\\xff\\xc0\\x00\\x11\\x08\\x00d\\x00d\\x03\\x01\"\\x00\\x02\\x11\\x01\\x03\\x11\\x01\\xff\\xc4\\x00\\x1f\\x00\\x00\\x01\\x05\\x01\\x01\\x01\\x01\\x01\\x01\\x00\\x00\\x00\\x00\\x00\\x00\\x00\\x00\\x01\\x02\\x03\\x04\\x05\\x06\\x07\\x08\\t\\n\\x0b\\xff\\xc4\\x00\\xb5\\x10\\x00\\x02\\x01\\x03\\x03\\x02\\x04\\x03\\x05\\x05\\x04\\x04\\x00\\x00\\x01}\\x01\\x02\\x03\\x00\\x04\\x11\\x05\\x12!1A\\x06\\x13Qa\\x07\"q\\x142\\x81\\x91\\xa1\\x08#B\\xb1\\xc1\\x15R\\xd1\\xf0$3br\\x82\\t\\n\\x16\\x17\\x18\\x19\\x1a%&\\'()*456789:CDEFGHIJSTUVWXYZcdefghijstuvwxyz\\x83\\x84\\x85\\x86\\x87\\x88\\x89\\x8a\\x92\\x93\\x94\\x95\\x96\\x97\\x98\\x99\\x9a\\xa2\\xa3\\xa4\\xa5\\xa6\\xa7\\xa8\\xa9\\xaa\\xb2\\xb3\\xb4\\xb5\\xb6\\xb7\\xb8\\xb9\\xba\\xc2\\xc3\\xc4\\xc5\\xc6\\xc7\\xc8\\xc9\\xca\\xd2\\xd3\\xd4\\xd5\\xd6\\xd7\\xd8\\xd9\\xda\\xe1\\xe2\\xe3\\xe4\\xe5\\xe6\\xe7\\xe8\\xe9\\xea\\xf1\\xf2\\xf3\\xf4\\xf5\\xf6\\xf7\\xf8\\xf9\\xfa\\xff\\xc4\\x00\\x1f\\x01\\x00\\x03\\x01\\x01\\x01\\x01\\x01\\x01\\x01\\x01\\x01\\x00\\x00\\x00\\x00\\x00\\x00\\x01\\x02\\x03\\x04\\x05\\x06\\x07\\x08\\t\\n\\x0b\\xff\\xc4\\x00\\xb5\\x11\\x00\\x02\\x01\\x02\\x04\\x04\\x03\\x04\\x07\\x05\\x04\\x04\\x00\\x01\\x02w\\x00\\x01\\x02\\x03\\x11\\x04\\x05!1\\x06\\x12AQ\\x07aq\\x13\"2\\x81\\x08\\x14B\\x91\\xa1\\xb1\\xc1\\t#3R\\xf0\\x15br\\xd1\\n\\x16$4\\xe1%\\xf1\\x17\\x18\\x19\\x1a&\\'()*56789:CDEFGHIJSTUVWXYZcdefghijstuvwxyz\\x82\\x83\\x84\\x85\\x86\\x87\\x88\\x89\\x8a\\x92\\x93\\x94\\x95\\x96\\x97\\x98\\x99\\x9a\\xa2\\xa3\\xa4\\xa5\\xa6\\xa7\\xa8\\xa9\\xaa\\xb2\\xb3\\xb4\\xb5\\xb6\\xb7\\xb8\\xb9\\xba\\xc2\\xc3\\xc4\\xc5\\xc6\\xc7\\xc8\\xc9\\xca\\xd2\\xd3\\xd4\\xd5\\xd6\\xd7\\xd8\\xd9\\xda\\xe2\\xe3\\xe4\\xe5\\xe6\\xe7\\xe8\\xe9\\xea\\xf2\\xf3\\xf4\\xf5\\xf6\\xf7\\xf8\\xf9\\xfa\\xff\\xda\\x00\\x0c\\x03\\x01\\x00\\x02\\x11\\x03\\x11\\x00?\\x00\\xfe\\x7f\\xe8\\xa2\\x8a\\x00(\\xa2\\x8a\\x00(\\xa2\\x8a\\x00(\\xa2\\x8a\\x00(\\xa2\\x8a\\x00(\\xa2\\x8a\\x00(\\xa2\\x8a\\x00(\\xa2\\x8a\\x00(\\xa2\\x8a\\x00(\\xa2\\x8a\\x00(\\xa2\\x8a\\x00(\\xa2\\x8a\\x00(\\xa2\\x8a\\x00(\\xa2\\x8a\\x00(\\xa2\\x8a\\x00(\\xa2\\x8a\\x00(\\xa2\\x8a\\x00(\\xa2\\x8a\\x00(\\xa2\\x8a\\x00(\\xa2\\x8a\\x00(\\xa2\\x8a\\x00(\\xa2\\x8a\\x00(\\xa2\\x8a\\x00(\\xa2\\x8a\\x00(\\xa2\\x8a\\x00(\\xa2\\x8a\\x00(\\xa2\\x8a\\x00(\\xa2\\x8a\\x00(\\xa2\\x8a\\x00(\\xa2\\x8a\\x00(\\xa2\\x8a\\x00(\\xa2\\x8a\\x00(\\xa2\\x8a\\x00(\\xa2\\x8a\\x00(\\xa2\\x8a\\x00(\\xa2\\x8a\\x00(\\xa2\\x8a\\x00(\\xa2\\x8a\\x00(\\xa2\\x8a\\x00(\\xa2\\x8a\\x00(\\xa2\\x8a\\x00(\\xa2\\x8a\\x00(\\xa2\\x8a\\x00(\\xa2\\x8a\\x00(\\xa2\\x8a\\x00(\\xa2\\x8a\\x00(\\xa2\\x8a\\x00(\\xa2\\x8a\\x00(\\xa2\\x8a\\x00\\xff\\xd9'"
       ]
      }
     ],
     "prompt_number": 12
    },
    {
     "cell_type": "code",
     "collapsed": false,
     "input": [],
     "language": "python",
     "metadata": {},
     "outputs": []
    }
   ],
   "metadata": {}
  }
 ]
}