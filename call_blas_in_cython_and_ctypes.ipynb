{
 "metadata": {
  "name": "",
  "signature": "sha256:b5a2385e70734a8d697d03a7678d8b9538a6f070ec83c81f188b8abad3422f64"
 },
 "nbformat": 3,
 "nbformat_minor": 0,
 "worksheets": [
  {
   "cells": [
    {
     "cell_type": "heading",
     "level": 1,
     "metadata": {},
     "source": [
      "Cython\u8c03\u7528`scipy.linalg.blas`\u4e2d\u7684\u51fd\u6570"
     ]
    },
    {
     "cell_type": "markdown",
     "metadata": {},
     "source": [
      "\u8fd9\u7bc7\u535a\u5ba2\u4e2d\u4ecb\u7ecd\u4e86\u4e00\u79cd\u5728Cython\u8c03\u7528`scipy`\u4e2d\u63d0\u4f9b\u7684`blas`\u51fd\u6570\u7684\u65b9\u6cd5\uff1a\n",
      "\n",
      "http://radimrehurek.com/2013/09/word2vec-in-python-part-two-optimizing/"
     ]
    },
    {
     "cell_type": "code",
     "collapsed": false,
     "input": [
      "from scipy.linalg import blas\n",
      "%col 4 dir(blas)"
     ],
     "language": "python",
     "metadata": {},
     "outputs": [
      {
       "output_type": "stream",
       "stream": "stdout",
       "text": [
        "['_DeprecatedImport',      '__all__',                '__builtins__',           '__doc__',               \n",
        " '__file__',               '__name__',               '__package__',            '_blas_alias',           \n",
        " '_cblas',                 '_fblas',                 '_get_funcs',             '_np',                   \n",
        " '_type_conv',             'absolute_import',        'caxpy',                  'cblas',                 \n",
        " 'ccopy',                  'cdotc',                  'cdotu',                  'cgemm',                 \n",
        " 'cgemv',                  'cgerc',                  'cgeru',                  'chemm',                 \n",
        " 'chemv',                  'cher2k',                 'cherk',                  'crotg',                 \n",
        " 'cscal',                  'csrot',                  'csscal',                 'cswap',                 \n",
        " 'csymm',                  'csyr2k',                 'csyrk',                  'ctrmm',                 \n",
        " 'ctrmv',                  'dasum',                  'daxpy',                  'dcopy',                 \n",
        " 'ddot',                   'dgemm',                  'dgemv',                  'dger',                  \n",
        " 'division',               'dnrm2',                  'drot',                   'drotg',                 \n",
        " 'drotm',                  'drotmg',                 'dscal',                  'dswap',                 \n",
        " 'dsymm',                  'dsymv',                  'dsyr2k',                 'dsyrk',                 \n",
        " 'dtrmm',                  'dtrmv',                  'dzasum',                 'dznrm2',                \n",
        " 'fblas',                  'find_best_blas_type',    'get_blas_funcs',         'icamax',                \n",
        " 'idamax',                 'isamax',                 'izamax',                 'print_function',        \n",
        " 'sasum',                  'saxpy',                  'scasum',                 'scnrm2',                \n",
        " 'scopy',                  'sdot',                   'sgemm',                  'sgemv',                 \n",
        " 'sger',                   'snrm2',                  'srot',                   'srotg',                 \n",
        " 'srotm',                  'srotmg',                 'sscal',                  'sswap',                 \n",
        " 'ssymm',                  'ssymv',                  'ssyr2k',                 'ssyrk',                 \n",
        " 'strmm',                  'strmv',                  'zaxpy',                  'zcopy',                 \n",
        " 'zdotc',                  'zdotu',                  'zdrot',                  'zdscal',                \n",
        " 'zgemm',                  'zgemv',                  'zgerc',                  'zgeru',                 \n",
        " 'zhemm',                  'zhemv',                  'zher2k',                 'zherk',                 \n",
        " 'zrotg',                  'zscal',                  'zswap',                  'zsymm',                 \n",
        " 'zsyr2k',                 'zsyrk',                  'ztrmm',                  'ztrmv']                 \n"
       ]
      }
     ],
     "prompt_number": 1
    },
    {
     "cell_type": "code",
     "collapsed": false,
     "input": [
      "print blas.saxpy.__doc__"
     ],
     "language": "python",
     "metadata": {},
     "outputs": [
      {
       "output_type": "stream",
       "stream": "stdout",
       "text": [
        "z = saxpy(x,y,[n,a,offx,incx,offy,incy])\n",
        "\n",
        "Wrapper for ``saxpy``.\n",
        "\n",
        "Parameters\n",
        "----------\n",
        "x : input rank-1 array('f') with bounds (*)\n",
        "y : input rank-1 array('f') with bounds (*)\n",
        "\n",
        "Other Parameters\n",
        "----------------\n",
        "n : input int, optional\n",
        "    Default: (len(x)-offx)/abs(incx)\n",
        "a : input float, optional\n",
        "    Default: 1.0\n",
        "offx : input int, optional\n",
        "    Default: 0\n",
        "incx : input int, optional\n",
        "    Default: 1\n",
        "offy : input int, optional\n",
        "    Default: 0\n",
        "incy : input int, optional\n",
        "    Default: 1\n",
        "\n",
        "Returns\n",
        "-------\n",
        "z : rank-1 array('f') with bounds (*) and y storage\n",
        "\n"
       ]
      }
     ],
     "prompt_number": 15
    },
    {
     "cell_type": "code",
     "collapsed": false,
     "input": [
      "import numpy as np\n",
      "x = np.array([1, 2, 3], np.float32)\n",
      "y = np.array([1, 3, 5], np.float32)\n",
      "blas.saxpy(x, y, a=0.5)\n",
      "y"
     ],
     "language": "python",
     "metadata": {},
     "outputs": [
      {
       "metadata": {},
       "output_type": "pyout",
       "prompt_number": 23,
       "text": [
        "array([ 1.5,  4. ,  6.5], dtype=float32)"
       ]
      }
     ],
     "prompt_number": 23
    },
    {
     "cell_type": "heading",
     "level": 2,
     "metadata": {},
     "source": [
      "\u627e\u5230fortran\u51fd\u6570\u7684\u5730\u5740"
     ]
    },
    {
     "cell_type": "markdown",
     "metadata": {},
     "source": [
      "`saxpy`\u662f\u4e00\u4e2a`<fortran object>`\uff0c\u5176\u4ee3\u7801\u53ef\u4ee5\u5728`fortranobject.h`\u548c`fortranobject.c`\u4e2d\u627e\u5230\u3002"
     ]
    },
    {
     "cell_type": "code",
     "collapsed": false,
     "input": [
      "blas.saxpy"
     ],
     "language": "python",
     "metadata": {},
     "outputs": [
      {
       "metadata": {},
       "output_type": "pyout",
       "prompt_number": 54,
       "text": [
        "<fortran object>"
       ]
      }
     ],
     "prompt_number": 54
    },
    {
     "cell_type": "markdown",
     "metadata": {},
     "source": [
      "\u5176`_cpointer`\u5c5e\u6027\u4e3a\u5305\u88c5fortran\u51fd\u6570\u5730\u5740\u7684`PyCObject`\u5bf9\u8c61\u3002"
     ]
    },
    {
     "cell_type": "code",
     "collapsed": false,
     "input": [
      "blas.saxpy._cpointer"
     ],
     "language": "python",
     "metadata": {},
     "outputs": [
      {
       "metadata": {},
       "output_type": "pyout",
       "prompt_number": 55,
       "text": [
        "<PyCObject at 0x7413050>"
       ]
      }
     ],
     "prompt_number": 55
    },
    {
     "cell_type": "markdown",
     "metadata": {},
     "source": [
      "\u8981\u83b7\u5f97`PyCobject`\u5305\u88c5\u7684\u6307\u9488\uff0c\u53ef\u4ee5\u8c03\u7528PythonAPI\u4e2d\u7684`PyCObject_AsVoidPtr`\uff1a\n",
      "\n",
      "```\n",
      "void* PyCObject_AsVoidPtr(PyObject* self)\n",
      "\n",
      "    Return the object void * that the PyCObject self was created with.\n",
      "```"
     ]
    },
    {
     "cell_type": "code",
     "collapsed": false,
     "input": [
      "import ctypes\n",
      "saxpy_addr = ctypes.pythonapi.PyCObject_AsVoidPtr(ctypes.py_object(blas.saxpy._cpointer))\n",
      "saxpy_addr"
     ],
     "language": "python",
     "metadata": {},
     "outputs": [
      {
       "metadata": {},
       "output_type": "pyout",
       "prompt_number": 77,
       "text": [
        "155577866"
       ]
      }
     ],
     "prompt_number": 77
    },
    {
     "cell_type": "markdown",
     "metadata": {},
     "source": [
      "\u83b7\u5f97\u4e86\u51fd\u6570\u7684\u5730\u5740\u4e4b\u540e\uff0c\u6211\u4eec\u641c\u7d22\u51fd\u6570\u7684\u8c03\u7528\u539f\u578b\uff1a\n",
      "\n",
      "http://www.netlib.org/lapack/explore-html/d8/daf/saxpy_8f.html\n",
      "\n",
      "```\n",
      "subroutine saxpy(\n",
      "        integer   N,\n",
      "        real      SA,\n",
      "        real, dimension(*)      SX,\n",
      "        integer      INCX,\n",
      "        real, dimension(*)      SY,\n",
      "        integer      INCY \n",
      "    )     \n",
      "```\n",
      "\n",
      "\u6ce8\u610ffortran\u8bed\u8a00\u662f\u4f20\u9012\u5730\u5740\uff0c\u56e0\u6b64\u53ef\u4ee5\u8ba4\u4e3a\u5176C\u8bed\u8a00\u7684\u8c03\u7528\u539f\u578b\u4e3a\uff1a\n",
      "\n",
      "```\n",
      "void saxpy(int *N, float *SA, float *SX, int *INCX, float *SY, int *INCY);\n",
      "```"
     ]
    },
    {
     "cell_type": "markdown",
     "metadata": {},
     "source": [
      "\u5148\u5b9a\u4e49`saxpy`\u7684\u51fd\u6570\u7c7b\u578b\uff1a"
     ]
    },
    {
     "cell_type": "code",
     "collapsed": false,
     "input": [
      "from ctypes import CFUNCTYPE, POINTER, c_int, c_float, byref\n",
      "\n",
      "saxpy_func_type = CFUNCTYPE(None, POINTER(c_int), POINTER(c_float), \n",
      "                POINTER(c_float), POINTER(c_int), \n",
      "                POINTER(c_float), POINTER(c_int))"
     ],
     "language": "python",
     "metadata": {},
     "outputs": [],
     "prompt_number": 68
    },
    {
     "cell_type": "markdown",
     "metadata": {},
     "source": [
      "\u5c06\u5730\u5740\u8f6c\u6362\u6210\u51fd\u6570\u6307\u9488\uff1a"
     ]
    },
    {
     "cell_type": "code",
     "collapsed": false,
     "input": [
      "func = ctypes.cast(saxpy_addr, saxpy_func_type)"
     ],
     "language": "python",
     "metadata": {},
     "outputs": [],
     "prompt_number": 69
    },
    {
     "cell_type": "markdown",
     "metadata": {},
     "source": [
      "\u8c03\u7528\u8be5\u51fd\u6570\uff1a"
     ]
    },
    {
     "cell_type": "code",
     "collapsed": false,
     "input": [
      "n = c_int(3)\n",
      "inc_x = c_int(1)\n",
      "inc_y = c_int(1)\n",
      "a = c_float(0.5)\n",
      "x = np.array([1, 2, 3], np.float32)\n",
      "y = np.array([1, 3, 5], np.float32)\n",
      "func(byref(n), byref(a), \n",
      "     x.ctypes.data_as(POINTER(c_float)), byref(inc_x),\n",
      "     y.ctypes.data_as(POINTER(c_float)), byref(inc_y))\n",
      "print y"
     ],
     "language": "python",
     "metadata": {},
     "outputs": [
      {
       "output_type": "stream",
       "stream": "stdout",
       "text": [
        "[ 1.5  4.   6.5]\n"
       ]
      }
     ],
     "prompt_number": 72
    },
    {
     "cell_type": "heading",
     "level": 2,
     "metadata": {},
     "source": [
      "\u5728Cython\u4e2d\u8c03\u7528"
     ]
    },
    {
     "cell_type": "code",
     "collapsed": false,
     "input": [
      "%load_ext cythonmagic"
     ],
     "language": "python",
     "metadata": {},
     "outputs": [],
     "prompt_number": 33
    },
    {
     "cell_type": "code",
     "collapsed": false,
     "input": [
      "%%cython\n",
      "import cython\n",
      "from cpython cimport PyCObject_AsVoidPtr\n",
      "from scipy.linalg import blas\n",
      "\n",
      "ctypedef void (*saxpy_ptr) (const int *N, const float *alpha, \n",
      "                            const float *X, const int *incX, float *Y, const int *incY) nogil\n",
      "cdef saxpy_ptr _saxpy=<saxpy_ptr>PyCObject_AsVoidPtr(blas.saxpy._cpointer)\n",
      "\n",
      "def blas_saxpy(float[:] y, float a, float[:] x):\n",
      "    cdef int n = y.shape[0]\n",
      "    cdef int inc_x = x.strides[0] / sizeof(float)\n",
      "    cdef int inc_y = y.strides[0] / sizeof(float)\n",
      "    _saxpy(&n, &a, &x[0], &inc_x, &y[0], &inc_y)\n",
      "    \n",
      "@cython.wraparound(False)\n",
      "@cython.boundscheck(False)\n",
      "def cython_saxpy(float[:] y, float a, float[:] x):\n",
      "    cdef int i\n",
      "    for i in range(y.shape[0]):\n",
      "        y[i] += a * x[i]"
     ],
     "language": "python",
     "metadata": {},
     "outputs": [],
     "prompt_number": 74
    },
    {
     "cell_type": "markdown",
     "metadata": {},
     "source": [
      "\u4e0b\u9762\u6bd4\u8f83Cython\u4e2d\u7684\u5faa\u73af\u5b9e\u73b0\u4e0e`saxpy`\u7684\u8fd0\u884c\u901f\u5ea6\uff1a"
     ]
    },
    {
     "cell_type": "code",
     "collapsed": false,
     "input": [
      "a = np.arange(100000, dtype=np.float32)\n",
      "b = np.zeros_like(a)\n",
      "%timeit blas_saxpy(b, 0.2, a)"
     ],
     "language": "python",
     "metadata": {},
     "outputs": [
      {
       "output_type": "stream",
       "stream": "stdout",
       "text": [
        "10000 loops, best of 3: 28.7 \u00b5s per loop\n"
       ]
      }
     ],
     "prompt_number": 75
    },
    {
     "cell_type": "code",
     "collapsed": false,
     "input": [
      "a = np.arange(100000, dtype=np.float32)\n",
      "b = np.zeros_like(a)\n",
      "%timeit cython_saxpy(b, 0.2, a)"
     ],
     "language": "python",
     "metadata": {},
     "outputs": [
      {
       "output_type": "stream",
       "stream": "stdout",
       "text": [
        "10000 loops, best of 3: 97 \u00b5s per loop\n"
       ]
      }
     ],
     "prompt_number": 76
    },
    {
     "cell_type": "heading",
     "level": 2,
     "metadata": {},
     "source": [
      "\u77e9\u9635\u4e58\u79ef`DGEMM`"
     ]
    },
    {
     "cell_type": "markdown",
     "metadata": {},
     "source": [
      "http://www.netlib.org/lapack/explore-html/d7/d2b/dgemm_8f.html\n",
      "\n",
      "DGEMM  performs one of the matrix-matrix operations\n",
      "\n",
      "    C := alpha*op( A )*op( B ) + beta*C,\n",
      "\n",
      "where  op( X ) is one of\n",
      "\n",
      "    op( X ) = X   or   op( X ) = X**T,\n",
      "\n",
      "alpha and beta are scalars, and A, B and C are matrices, with op( A ) an m by k matrix,  op( B )  a  k by n matrix and  C an m by n matrix.\n",
      "\n",
      "```\n",
      "subroutine dgemm\t(\n",
      "    character \tTRANSA,\n",
      "    character \tTRANSB,\n",
      "    integer \tM,\n",
      "    integer \tN,\n",
      "    integer \tK,\n",
      "    double precision \tALPHA,\n",
      "    double precision, dimension(lda,*) \tA,\n",
      "    integer \tLDA,\n",
      "    double precision, dimension(ldb,*) \tB,\n",
      "    integer \tLDB,\n",
      "    double precision \tBETA,\n",
      "    double precision, dimension(ldc,*) \tC,\n",
      "    integer \tLDC \n",
      ")\n",
      "```"
     ]
    },
    {
     "cell_type": "heading",
     "level": 3,
     "metadata": {},
     "source": [
      "ctypes\u8c03\u7528`dgemm()`"
     ]
    },
    {
     "cell_type": "markdown",
     "metadata": {},
     "source": [
      "\u4e0b\u9762\u7528`ctypes`\u8c03\u7528`dgemm()`\u51fd\u6570\uff0c\u6ce8\u610fFortran\u6570\u7ec4\u548cC\u6570\u7ec4\u7684\u8f74\u7684\u987a\u5e8f\u4e0d\u540c\uff1a"
     ]
    },
    {
     "cell_type": "code",
     "collapsed": false,
     "input": [
      "import ctypes\n",
      "dgemm_addr = ctypes.pythonapi.PyCObject_AsVoidPtr(ctypes.py_object(blas.dgemm._cpointer))\n",
      "dgemm_addr"
     ],
     "language": "python",
     "metadata": {},
     "outputs": [
      {
       "metadata": {},
       "output_type": "pyout",
       "prompt_number": 6,
       "text": [
        "157866968"
       ]
      }
     ],
     "prompt_number": 6
    },
    {
     "cell_type": "code",
     "collapsed": false,
     "input": [
      "from ctypes import CFUNCTYPE, POINTER, c_int, c_float, byref, c_byte, c_double\n",
      "\n",
      "dgemm_func_type = CFUNCTYPE(None, POINTER(c_byte), POINTER(c_byte),\n",
      "                            POINTER(c_int), POINTER(c_int), POINTER(c_int),\n",
      "                            POINTER(c_double), \n",
      "                            POINTER(c_double), POINTER(c_int),\n",
      "                            POINTER(c_double), POINTER(c_int),\n",
      "                            POINTER(c_double),\n",
      "                            POINTER(c_double), POINTER(c_int))"
     ],
     "language": "python",
     "metadata": {},
     "outputs": [],
     "prompt_number": 8
    },
    {
     "cell_type": "markdown",
     "metadata": {},
     "source": [
      "\u4e24\u4e2aFortran\u6570\u7ec4\u7684\u4e58\u79ef\uff1a"
     ]
    },
    {
     "cell_type": "code",
     "collapsed": false,
     "input": [
      "m, k, n = 10, 5, 8\n",
      "a = np.random.rand(k, m).T\n",
      "b = np.random.rand(n, k).T\n",
      "c = np.zeros((n, m)).T\n",
      "\n",
      "func = ctypes.cast(dgemm_addr, dgemm_func_type)\n",
      "\n",
      "ta = c_byte(ord(\"N\"))\n",
      "tb = c_byte(ord(\"N\"))\n",
      "M = c_int(m)\n",
      "K = c_int(k)\n",
      "N = c_int(n)\n",
      "alpha = c_double(1.0)\n",
      "beta = c_double(0.0)\n",
      "a_addr = a.ctypes.data_as(POINTER(c_double))\n",
      "lda = c_int(m)\n",
      "b_addr = b.ctypes.data_as(POINTER(c_double))\n",
      "ldb = c_int(k)\n",
      "c_addr = c.ctypes.data_as(POINTER(c_double))\n",
      "ldc = c_int(m)\n",
      "\n",
      "func(byref(ta), byref(tb), byref(M), byref(N), byref(K), byref(alpha),\n",
      "     a_addr, byref(lda), b_addr, byref(ldb), byref(beta),\n",
      "     c_addr, byref(ldc))\n",
      "\n",
      "np.allclose(c, np.dot(a, b))"
     ],
     "language": "python",
     "metadata": {},
     "outputs": [
      {
       "metadata": {},
       "output_type": "pyout",
       "prompt_number": 30,
       "text": [
        "True"
       ]
      }
     ],
     "prompt_number": 30
    },
    {
     "cell_type": "markdown",
     "metadata": {},
     "source": [
      "\u4e24\u4e2aC\u6570\u7ec4\u7684\u4e58\u79ef\uff1a"
     ]
    },
    {
     "cell_type": "code",
     "collapsed": false,
     "input": [
      "m, k, n = 10, 5, 8\n",
      "a = np.random.rand(m, k)\n",
      "b = np.random.rand(k, n)\n",
      "c = np.zeros((n, m))\n",
      "\n",
      "func = ctypes.cast(dgemm_addr, dgemm_func_type)\n",
      "\n",
      "ta = c_byte(ord(\"T\"))\n",
      "tb = c_byte(ord(\"T\"))\n",
      "M = c_int(m)\n",
      "K = c_int(k)\n",
      "N = c_int(n)\n",
      "alpha = c_double(1.0)\n",
      "beta = c_double(0.0)\n",
      "a_addr = a.ctypes.data_as(POINTER(c_double))\n",
      "lda = c_int(k)\n",
      "b_addr = b.ctypes.data_as(POINTER(c_double))\n",
      "ldb = c_int(n)\n",
      "c_addr = c.ctypes.data_as(POINTER(c_double))\n",
      "ldc = c_int(m)\n",
      "\n",
      "func(byref(ta), byref(tb), byref(M), byref(N), byref(K), byref(alpha),\n",
      "     a_addr, byref(lda), b_addr, byref(ldb), byref(beta),\n",
      "     c_addr, byref(ldc))\n",
      "\n",
      "np.allclose(c.T, np.dot(a, b))"
     ],
     "language": "python",
     "metadata": {},
     "outputs": [
      {
       "metadata": {},
       "output_type": "pyout",
       "prompt_number": 32,
       "text": [
        "True"
       ]
      }
     ],
     "prompt_number": 32
    },
    {
     "cell_type": "heading",
     "level": 3,
     "metadata": {},
     "source": [
      "Cython\u8c03\u7528`dgemm()`"
     ]
    },
    {
     "cell_type": "markdown",
     "metadata": {},
     "source": [
      "\u4e0b\u9762\u7684\u7a0b\u5e8f\u5728Cython\u4e2d\u5bf9\u4e24\u4e2a\u4e09\u7ef4\u6570\u7ec4\u7684\u7b2c0\u8f74\u8fdb\u884c\u5faa\u73af\uff0c\u5c06`index`\u6570\u7ec4\u4e2d\u4e0b\u6807\u5bf9\u5e94\u7684\u77e9\u9635\u76f8\u4e58\u3002\u4f7f\u7528`prange()`\u8fdb\u884c\u5e76\u884c\u8fd0\u7b97\uff1a"
     ]
    },
    {
     "cell_type": "code",
     "collapsed": false,
     "input": [
      "%%cython -c-Ofast -c-fopenmp --link-args=-fopenmp\n",
      "\n",
      "from cython.parallel import prange\n",
      "import cython\n",
      "cimport numpy as np\n",
      "import numpy as np\n",
      "from cpython cimport PyCObject_AsVoidPtr\n",
      "from scipy.linalg import blas\n",
      "\n",
      "ctypedef void (*dgemm_ptr) (char *ta, char *tb, \n",
      "                            int *m, int *n, int *k,\n",
      "                            double *alpha,\n",
      "                            double *a, int *lda,\n",
      "                            double *b, int *ldb,\n",
      "                            double *beta,\n",
      "                            double *c, int *ldc) nogil\n",
      "\n",
      "cdef dgemm_ptr _dgemm=<dgemm_ptr>PyCObject_AsVoidPtr(blas.dgemm._cpointer)\n",
      "\n",
      "@cython.wraparound(False)\n",
      "@cython.boundscheck(False)\n",
      "def dgemm(double[:, :, :] a, double[:, :, :] b, int[:, ::1] index):\n",
      "    cdef int m, n, k, i, length, idx_a, idx_b\n",
      "    cdef double[:, :, :] c\n",
      "    cdef char ta, tb\n",
      "    cdef double alpha = 1.0\n",
      "    cdef double beta = 0.0\n",
      "        \n",
      "    length = index.shape[0]\n",
      "    m, k, n  = a.shape[1], a.shape[2], b.shape[2]        \n",
      "    \n",
      "    c = np.zeros((length, n, m))\n",
      "    \n",
      "    ta = \"T\"\n",
      "    tb = ta\n",
      "    \n",
      "    for i in prange(length, nogil=True):\n",
      "        idx_a = index[i, 0]\n",
      "        idx_b = index[i, 1]\n",
      "        _dgemm(&ta, &tb, &m, &n, &k, &alpha, \n",
      "               &a[idx_a, 0, 0], &k, \n",
      "               &b[idx_b, 0, 0], &n, \n",
      "               &beta,\n",
      "               &c[i, 0, 0], &m)\n",
      "    \n",
      "    return c.base"
     ],
     "language": "python",
     "metadata": {},
     "outputs": [],
     "prompt_number": 260
    },
    {
     "cell_type": "markdown",
     "metadata": {},
     "source": [
      "\u4e0b\u9762\u7684`matrix_mutiply()`\u4e0eNumPy\u7684gufuncs\u5177\u6709\u76f8\u540c\u7684\u529f\u80fd\uff0c\u5bf9\u4e24\u4e2a\u4efb\u610f\u7ef4\u6570\u7684\u6570\u7ec4\u6700\u540e\u4e24\u4e2a\u8f74\u8fdb\u884c\u77e9\u9635\u4e58\u79ef\u8fd0\u7b97\uff0c\u800c\u5bf9\u5176\u5b83\u8f74\u8fdb\u884c\u5e7f\u64ad\u8fd0\u7b97\u3002"
     ]
    },
    {
     "cell_type": "code",
     "collapsed": false,
     "input": [
      "def matrix_multiply(a, b):\n",
      "    if a.ndim <= 2 and b.ndim <= 2:\n",
      "        return np.dot(a, b)\n",
      "    \n",
      "    a = np.ascontiguousarray(a).astype(np.float, copy=False)\n",
      "    b = np.ascontiguousarray(b).astype(np.float, copy=False)\n",
      "    if a.ndim == 2:\n",
      "        a = a[None, :, :]\n",
      "    if b.ndim == 2:\n",
      "        b = b[None, :, :]\n",
      "        \n",
      "    shape_a = a.shape[:-2]\n",
      "    shape_b = b.shape[:-2]\n",
      "    len_a = np.prod(shape_a)\n",
      "    len_b = np.prod(shape_b)\n",
      "    \n",
      "    idx_a = np.arange(len_a, dtype=np.int32).reshape(a.shape[:-2])\n",
      "    idx_b = np.arange(len_b, dtype=np.int32).reshape(b.shape[:-2])\n",
      "    idx_a, idx_b = np.broadcast_arrays(idx_a, idx_b)\n",
      "    \n",
      "    index = np.column_stack((idx_a.ravel(), idx_b.ravel()))\n",
      "    bshape = idx_a.shape\n",
      "    \n",
      "    if a.ndim > 3:\n",
      "        a = a.reshape(-1, a.shape[-2], a.shape[-1])\n",
      "    if b.ndim > 3:\n",
      "        b = b.reshape(-1, b.shape[-2], b.shape[-1])\n",
      "    \n",
      "    if a.shape[-1] != b.shape[-2]:\n",
      "        raise ValueError(\"can't do matrix multiply because k isn't the same\")\n",
      "\n",
      "    c = dgemm(a, b, index)\n",
      "    c = np.swapaxes(c, -2, -1)\n",
      "    c.shape = bshape + c.shape[-2:]\n",
      "    return c"
     ],
     "language": "python",
     "metadata": {},
     "outputs": []
    },
    {
     "cell_type": "markdown",
     "metadata": {},
     "source": [
      "\u6d4b\u8bd5\u6211\u4eec\u7f16\u5199`matrix_multiply()`\u4e0e`umath_tests`\u6a21\u5757\u4e2d\u7684`matrix_multiply()`\u7ed3\u6784\u662f\u5426\u76f8\u540c\uff1a"
     ]
    },
    {
     "cell_type": "code",
     "collapsed": false,
     "input": [
      "import numpy.core.umath_tests as umath\n",
      "a = np.random.rand(15,  1, 10, 100, 30)\n",
      "b = np.random.rand( 1, 20,  1,  30, 50)\n",
      "np.allclose(matrix_multiply(a, b), umath.matrix_multiply(a, b))"
     ],
     "language": "python",
     "metadata": {},
     "outputs": [
      {
       "metadata": {},
       "output_type": "pyout",
       "prompt_number": 279,
       "text": [
        "True"
       ]
      }
     ],
     "prompt_number": 279
    },
    {
     "cell_type": "markdown",
     "metadata": {},
     "source": [
      "\u6bd4\u8f83\u4e8c\u8005\u7684\u8fd0\u7b97\u901f\u5ea6\uff1a"
     ]
    },
    {
     "cell_type": "code",
     "collapsed": false,
     "input": [
      "\n",
      "%timeit matrix_multiply(a, b)\n",
      "%timeit umath.matrix_multiply(a, b)"
     ],
     "language": "python",
     "metadata": {},
     "outputs": [
      {
       "output_type": "stream",
       "stream": "stdout",
       "text": [
        "10 loops, best of 3: 89 ms per loop\n",
        "1 loops, best of 3: 528 ms per loop"
       ]
      },
      {
       "output_type": "stream",
       "stream": "stdout",
       "text": [
        "\n"
       ]
      }
     ],
     "prompt_number": 282
    }
   ],
   "metadata": {}
  }
 ]
}